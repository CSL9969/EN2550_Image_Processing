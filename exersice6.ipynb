{
 "cells": [
  {
   "cell_type": "code",
   "execution_count": 16,
   "metadata": {},
   "outputs": [],
   "source": [
    "import cv2 as cv\n",
    "import numpy as np\n",
    "import matplotlib.pyplot as plt\n",
    "\n",
    "img = cv.imread(r'images/sudoku.png' , cv.IMREAD_COLOR)\n",
    "assert img is not None\n",
    "\n",
    "gray = cv.cvtColor(img , cv.COLOR_BGR2GRAY)\n",
    "edges = cv.Canny(gray , 50 , 150 , apertureSize = 3)\n",
    "lines = cv.HoughLines(edges , 1 , np.pi/180 , 185)\n",
    "\n",
    "for line in lines:\n",
    "    rho , theta = line[0]\n",
    "    a = np.cos(theta)\n",
    "    b = np.sin(theta)\n",
    "    x0 , y0 = a*rho , b*rho\n",
    "    x1 , y1 = int(x0 + 1000*(-b)) , int(y0 + 1000*(a))\n",
    "    x2 , y2 = int(x0 - 1000*(-b)) , int(y0 - 1000*(a))\n",
    "    cv.line(img , (x1,y1) , (x2,y2) , (0,0,255) , 2)\n",
    "\n",
    "cv.namedWindow(\"Image\" , cv.WINDOW_AUTOSIZE)\n",
    "cv.imshow(\"Image\" , gray)\n",
    "cv.waitKey()\n",
    "cv.imshow(\"Image\" , edges)\n",
    "cv.waitKey()\n",
    "cv.imshow(\"Image\" , img)\n",
    "cv.waitKey()\n",
    "cv.destroyAllWindows()"
   ]
  },
  {
   "cell_type": "code",
   "execution_count": 19,
   "metadata": {},
   "outputs": [],
   "source": [
    "import cv2 as cv\n",
    "import numpy as np\n",
    "import matplotlib.pyplot as plt\n",
    "\n",
    "img = cv.imread(r'images/coins.jpg' , cv.IMREAD_COLOR)\n",
    "assert img is not None\n",
    "\n",
    "gray = cv.cvtColor(img , cv.COLOR_BGR2GRAY)\n",
    "circles = cv.HoughCircles(gray , cv.HOUGH_GRADIENT , 1 , 20 , param1=50 , param2=30, minRadius=0 , maxRadius=0)\n",
    "circles = np.uint16(np.around(circles))\n",
    "\n",
    "for i in circles[0 , :]:\n",
    "    cv.circle(img , (i[0], i[1]) , i[2] , (0 , 255 , 0) , 2)\n",
    "    cv.circle(img , (i[0], i[1]) , 2 , (0 , 0 , 255) , 3)\n",
    "\n",
    "cv.namedWindow(\"Image\" , cv.WINDOW_AUTOSIZE)\n",
    "cv.imshow(\"Image\" , gray)\n",
    "cv.waitKey()\n",
    "cv.imshow(\"Image\" , img)\n",
    "cv.waitKey()\n",
    "cv.destroyAllWindows()"
   ]
  },
  {
   "cell_type": "code",
   "execution_count": 28,
   "metadata": {},
   "outputs": [
    {
     "name": "stdout",
     "output_type": "stream",
     "text": [
      "x = 29.0 , y = 109.0 , scale = 1.0 , orientation = 0.0 , p1 = (4, 76) , p2 = (54, 141)\n"
     ]
    }
   ],
   "source": [
    "import cv2 as cv\n",
    "import numpy as np\n",
    "import matplotlib.pyplot as plt\n",
    "%matplotlib inline\n",
    "\n",
    "img = cv.imread(r'images/pic1.png' , cv.IMREAD_REDUCED_GRAYSCALE_2)\n",
    "assert img is not None\n",
    "templ = cv.imread(r'images/templ.png' , cv.IMREAD_REDUCED_GRAYSCALE_2)\n",
    "assert img is not None\n",
    "\n",
    "img_edges = cv.Canny(img , 50 , 250)\n",
    "templ_edges = cv.Canny(templ , 50 , 250)\n",
    "alg = cv.createGeneralizedHoughGuil()\n",
    "alg.setTemplate(templ_edges)\n",
    "alg.setAngleThresh(100000)\n",
    "alg.setScaleThresh(40000)\n",
    "alg.setPosThresh(1000)\n",
    "alg.setAngleStep(1)\n",
    "alg.setScaleStep(0.1)\n",
    "alg.setMinScale(0.9)\n",
    "alg.setMaxScale(1.1)\n",
    "positions , votes = alg.detect(img_edges)\n",
    "\n",
    "out = cv.cvtColor(img , cv.COLOR_BAYER_BG2BGR)\n",
    "\n",
    "for x,y,scale,orientation in positions[0]:\n",
    "    halfHeight = templ.shape[0] / 2. * scale\n",
    "    halfWidth = templ.shape[1] / 2. * scale\n",
    "    p1 = (int(x-halfWidth) , int(y-halfHeight))\n",
    "    p2 = (int(x+halfWidth) , int(y+halfHeight))\n",
    "    print(\"x = {} , y = {} , scale = {} , orientation = {} , p1 = {} , p2 = {}\".format(x,y,scale,orientation,p1,p2))\n",
    "    cv.rectangle(out , p1, p2 , (0 , 0 , 255))\n",
    "\n",
    "\n",
    "cv.namedWindow(\"Image\" , cv.WINDOW_AUTOSIZE)\n",
    "cv.imshow(\"Image\" , templ)\n",
    "cv.waitKey()\n",
    "cv.imshow(\"Image\" , out)\n",
    "cv.waitKey()\n",
    "cv.destroyAllWindows()"
   ]
  },
  {
   "cell_type": "code",
   "execution_count": 37,
   "metadata": {},
   "outputs": [
    {
     "data": {
      "image/png": "[encoded data removed]",
      "text/plain": [
       "<Figure size 432x288 with 1 Axes>"
      ]
     },
     "metadata": {
      "needs_background": "light"
     },
     "output_type": "display_data"
    }
   ],
   "source": [
    "import cv2 as cv\n",
    "import numpy as np\n",
    "import matplotlib.pyplot as plt\n",
    "\n",
    "a , b , c , d = [0 , 0 , 1] , [0 , 1 , 1] , [1 ,1 , 1] , [1, 0 , 1]\n",
    "X = np.array([a , b, c, d]).T\n",
    "\n",
    "theta = np.pi * 45 /180\n",
    "s = 1\n",
    "tx , ty = 1.5, 2\n",
    "H = np.array([[s*np.cos(theta) , -s*np.sin(theta) , tx] , [s*np.sin(theta) , s*np.cos(theta) , ty] , [0 , 0 , 1]])\n",
    "Y = H @ X\n",
    "\n",
    "x = np.append(X[0 , :] , X[0,0])\n",
    "y = np.append(X[1 , :] , X[1 , 0])\n",
    "fig , ax = plt.subplots()\n",
    "ax.plot(x , y , color = 'g')\n",
    "ax.set_aspect('equal')\n",
    "\n",
    "x = np.append(Y[0 , :] , Y[0,0])\n",
    "y = np.append(Y[1 , :] , Y[1 , 0])\n",
    "ax.plot(x , y , color = 'r')\n",
    "ax.set_aspect('equal')\n"
   ]
  },
  {
   "cell_type": "code",
   "execution_count": 46,
   "metadata": {},
   "outputs": [],
   "source": [
    "import cv2 as cv\n",
    "import numpy as np\n",
    "import matplotlib.pyplot as plt\n",
    "%matplotlib inline\n",
    "\n",
    "img1 = cv.imread(r'images/img1.ppm' , cv.IMREAD_ANYCOLOR)\n",
    "assert img is not None\n",
    "img4 = cv.imread(r'images/img4.ppm' , cv.IMREAD_ANYCOLOR)\n",
    "assert img is not None\n",
    "\n",
    "h = []\n",
    "with open(r'images/H1to4p') as f:\n",
    "    h = np.array([[float(h) for h in line.split()] for line in f])\n",
    "\n",
    "im1to4 = cv.warpPerspective(img4 , np.linalg.inv(h) , (2000,2000))\n",
    "\n",
    "cv.namedWindow(\"Image 1\" , cv.WINDOW_AUTOSIZE)\n",
    "cv.imshow(\"Image 1\" , img1)\n",
    "cv.waitKey()\n",
    "cv.namedWindow(\"Image 2\" , cv.WINDOW_AUTOSIZE)\n",
    "cv.imshow(\"Image 2\" , img4)\n",
    "cv.waitKey()\n",
    "cv.namedWindow(\"Image 1 warped\" , cv.WINDOW_AUTOSIZE)\n",
    "cv.imshow(\"Image 1 warped\" , im1to4)\n",
    "cv.waitKey()\n",
    "cv.destroyAllWindows()"
   ]
  },
  {
   "cell_type": "markdown",
   "metadata": {},
   "source": []
  },
  {
   "cell_type": "code",
   "execution_count": null,
   "metadata": {},
   "outputs": [],
   "source": []
  }
 ],
 "metadata": {
  "interpreter": {
   "hash": "a14684af9c661655f50dd5256e9c68cd5d7499b7e717d5fa5c30827d8bea9a71"
  },
  "kernelspec": {
   "display_name": "Python 3.10.2 64-bit (system)",
   "language": "python",
   "name": "python3"
  },
  "language_info": {
   "codemirror_mode": {
    "name": "ipython",
    "version": 3
   },
   "file_extension": ".py",
   "mimetype": "text/x-python",
   "name": "python",
   "nbconvert_exporter": "python",
   "pygments_lexer": "ipython3",
   "version": "3.10.2"
  },
  "orig_nbformat": 4
 },
 "nbformat": 4,
 "nbformat_minor": 2
}
