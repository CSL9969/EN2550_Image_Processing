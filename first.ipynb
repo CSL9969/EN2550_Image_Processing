{
 "cells": [
  {
   "cell_type": "markdown",
   "id": "3acf3288",
   "metadata": {},
   "source": [
    "# Name - Liyanage C.S.\n",
    "# Index - 190353R"
   ]
  },
  {
   "cell_type": "code",
   "execution_count": 2,
   "id": "b47f8de1-b6fe-4a5c-8a4c-7641046997fa",
   "metadata": {},
   "outputs": [
    {
     "name": "stdout",
     "output_type": "stream",
     "text": [
      "1 : 1\n",
      "2 : 4\n",
      "3 : 9\n",
      "4 : 16\n",
      "5 : 25\n"
     ]
    }
   ],
   "source": [
    "import numpy as np\n",
    "for i in range(1,6):\n",
    "    print(i,\":\",i**2)"
   ]
  },
  {
   "cell_type": "code",
   "execution_count": 3,
   "id": "66cb127c",
   "metadata": {},
   "outputs": [
    {
     "name": "stdout",
     "output_type": "stream",
     "text": [
      "1 : 1\n",
      "4 : 16\n"
     ]
    }
   ],
   "source": [
    "import sympy\n",
    "for i in range(1,6):\n",
    "    if not sympy.isprime(i):\n",
    "        print(i,\":\",i**2)"
   ]
  },
  {
   "cell_type": "code",
   "execution_count": 4,
   "id": "59cd6a3a",
   "metadata": {},
   "outputs": [
    {
     "name": "stdout",
     "output_type": "stream",
     "text": [
      "1 : 1\n",
      "2 : 4\n",
      "3 : 9\n",
      "4 : 16\n",
      "5 : 25\n"
     ]
    }
   ],
   "source": [
    "squares = [i**2 for i in range(1,6)]\n",
    "for i in squares:\n",
    "    print(int(i**0.5),\":\",i)"
   ]
  },
  {
   "cell_type": "code",
   "execution_count": 5,
   "id": "e75ef29c",
   "metadata": {},
   "outputs": [
    {
     "name": "stdout",
     "output_type": "stream",
     "text": [
      "1 : 1\n",
      "4 : 16\n"
     ]
    }
   ],
   "source": [
    "prime_squares = [i**2 for i in range(1,6) if not sympy.isprime(i)]\n",
    "for i in prime_squares:\n",
    "    print(int(i**0.5),\":\",i)"
   ]
  },
  {
   "cell_type": "code",
   "execution_count": 6,
   "id": "efb6d597",
   "metadata": {},
   "outputs": [
    {
     "name": "stdout",
     "output_type": "stream",
     "text": [
      "[[ 9 12 15  9]\n",
      " [25 32 39 19]\n",
      " [41 52 63 29]]\n"
     ]
    }
   ],
   "source": [
    "matrix1 = np.array([[1,2],[3,4],[5,6]])\n",
    "matrix2 = np.array([[7,8,9,1],[1,2,3,4]])\n",
    "c = matrix1 @ matrix2\n",
    "print(c)"
   ]
  },
  {
   "cell_type": "code",
   "execution_count": 7,
   "id": "74668cf6",
   "metadata": {},
   "outputs": [
    {
     "name": "stdout",
     "output_type": "stream",
     "text": [
      "[[ 3  4]\n",
      " [15 16]\n",
      " [15  6]]\n"
     ]
    }
   ],
   "source": [
    "A = np.array([[1,2],[3,4],[5,6]])\n",
    "B = np.array([[3,2],[5,4],[3,1]])\n",
    "print(A*B)"
   ]
  },
  {
   "cell_type": "code",
   "execution_count": 8,
   "id": "58f50eaf",
   "metadata": {},
   "outputs": [
    {
     "name": "stdout",
     "output_type": "stream",
     "text": [
      "[[ 0 10 10  9  1  2  5]\n",
      " [ 1  5  3  8 10  6  3]\n",
      " [ 1  2 10  0  5  2  4]\n",
      " [ 4  1  5  2  5  5  6]\n",
      " [ 8 10  8 10  8  1  7]]\n",
      "[[1 5]\n",
      " [1 2]\n",
      " [4 1]]\n"
     ]
    }
   ],
   "source": [
    "random_array = np.random.randint(0,11,size = (5,7))\n",
    "print(random_array)\n",
    "sliced_array = random_array[1:4,:2]\n",
    "print(sliced_array)"
   ]
  },
  {
   "cell_type": "markdown",
   "id": "7258d420",
   "metadata": {},
   "source": [
    "numpy normally do mathematical operations in arrays elementwise. For that, two arrays should be on the same dimensions. However, numpy broadcasting allows to do mathematical operations of two arrays with different dimensions with certain constraints. (Can't take any two arrays. Some conditions have to be met to allow broadcasting)"
   ]
  },
  {
   "cell_type": "code",
   "execution_count": 9,
   "id": "bf7db80f",
   "metadata": {},
   "outputs": [
    {
     "name": "stdout",
     "output_type": "stream",
     "text": [
      "[2 3 4 5]\n"
     ]
    }
   ],
   "source": [
    "#Example 1\n",
    "a = np.array([1,2,3,4])\n",
    "b = 1\n",
    "print(a+b)"
   ]
  },
  {
   "cell_type": "code",
   "execution_count": 10,
   "id": "4e6d559b",
   "metadata": {},
   "outputs": [
    {
     "name": "stdout",
     "output_type": "stream",
     "text": [
      "[[11 22]\n",
      " [13 24]\n",
      " [15 26]]\n"
     ]
    }
   ],
   "source": [
    "#Example 2\n",
    "a = np.array([[1,2],[3,4],[5,6]])\n",
    "b = np.array([10,20])\n",
    "print(a+b)"
   ]
  },
  {
   "cell_type": "code",
   "execution_count": 11,
   "id": "d1f3d424",
   "metadata": {},
   "outputs": [
    {
     "name": "stdout",
     "output_type": "stream",
     "text": [
      "[[11 21 31]\n",
      " [12 22 32]\n",
      " [13 23 33]\n",
      " [14 24 34]]\n"
     ]
    }
   ],
   "source": [
    "#Example 3\n",
    "a = np.array([[1,2,3,4]])\n",
    "b = np.array([10,20,30])\n",
    "a = np.transpose(a)\n",
    "print(a+b)"
   ]
  },
  {
   "cell_type": "code",
   "execution_count": 12,
   "id": "751087ef",
   "metadata": {},
   "outputs": [
    {
     "name": "stdout",
     "output_type": "stream",
     "text": [
      "[[-4.84095724]\n",
      " [ 2.01796522]]\n"
     ]
    }
   ],
   "source": [
    "m, c = 2 , -4\n",
    "N = 100\n",
    "x = np.linspace(0, N-1, N).reshape(N, 1)\n",
    "sigma = 10\n",
    "y = m*x + c + np.random.normal(0, sigma, (N, 1))\n",
    "X = np.append(np.ones((N,1)) , x, axis = 1)\n",
    "result = np.linalg.inv(X.T @ X) @ X.T @ y\n",
    "print(result) "
   ]
  },
  {
   "cell_type": "code",
   "execution_count": 4,
   "id": "8ccf0cdf",
   "metadata": {},
   "outputs": [],
   "source": [
    "import cv2 as cv\n",
    "im = cv.imread(r'./images/gal_gaussian.png')\n",
    "assert im is not None\n",
    "blur = cv.GaussianBlur(im,(5,5),0)\n",
    "cv.namedWindow('Image', cv.WINDOW_AUTOSIZE)\n",
    "cv.imshow('Image' , im)\n",
    "cv.waitKey(0)\n",
    "cv.imshow('Image' , blur)\n",
    "cv.waitKey(0)\n",
    "cv.destroyAllWindows()\n"
   ]
  },
  {
   "cell_type": "code",
   "execution_count": 5,
   "id": "8310067d",
   "metadata": {},
   "outputs": [],
   "source": [
    "img = cv.imread(r'./images/gal_sandp.png')\n",
    "assert img is not None\n",
    "median = cv.medianBlur(img , 5)\n",
    "cv.namedWindow('Image', cv.WINDOW_AUTOSIZE)\n",
    "cv.imshow('Image' , img)\n",
    "cv.waitKey(0)\n",
    "cv.imshow('Image' , median)\n",
    "cv.waitKey(0)\n",
    "cv.destroyAllWindows()"
   ]
  },
  {
   "cell_type": "code",
   "execution_count": 10,
   "id": "413b7fdb",
   "metadata": {},
   "outputs": [
    {
     "data": {
      "image/png": "[encoded data removed]",
      "text/plain": [
       "<Figure size 432x288 with 1 Axes>"
      ]
     },
     "metadata": {
      "needs_background": "light"
     },
     "output_type": "display_data"
    }
   ],
   "source": [
    "import numpy as np\n",
    "import cv2 as cv\n",
    "import matplotlib.pyplot as plt\n",
    "\n",
    "img = np.zeros((40,60) , dtype = np.uint8)\n",
    "img[0:20 , 30:60] = 125\n",
    "\n",
    "fig , ax = plt.subplots()\n",
    "ax.imshow(img , cmap = 'gray' , vmin = 0, vmax = 255)\n",
    "plt.show()"
   ]
  },
  {
   "cell_type": "code",
   "execution_count": 17,
   "id": "06cd9f67",
   "metadata": {},
   "outputs": [
    {
     "data": {
      "image/png": "[encoded data removed]",
      "text/plain": [
       "<Figure size 432x288 with 1 Axes>"
      ]
     },
     "metadata": {
      "needs_background": "light"
     },
     "output_type": "display_data"
    }
   ],
   "source": [
    "import numpy as np\n",
    "import cv2 as cv\n",
    "import matplotlib.pyplot as plt\n",
    "\n",
    "img = np.zeros((40 , 60 , 3) , dtype = np.uint8)\n",
    "img[20:40 , :30] = (218,24,132)\n",
    "\n",
    "fig , ax = plt.subplots()\n",
    "ax.imshow(img , cmap = 'gray' , vmin = 0 , vmax = 255)\n",
    "plt.show()"
   ]
  },
  {
   "cell_type": "code",
   "execution_count": 25,
   "id": "a2a52ba6",
   "metadata": {},
   "outputs": [],
   "source": [
    "import cv2 as cv\n",
    "img = cv.imread(r'./images/tom_dark.jpg')\n",
    "assert img is not None\n",
    "\n",
    "bright = img + 30\n",
    "cv.namedWindow('Image', cv.WINDOW_AUTOSIZE)\n",
    "cv.imshow('Image' , img)\n",
    "cv.waitKey(0)\n",
    "cv.imshow('Image' , bright)\n",
    "cv.waitKey(0)\n",
    "cv.destroyAllWindows()"
   ]
  }
 ],
 "metadata": {
  "kernelspec": {
   "display_name": "Python 3 (ipykernel)",
   "language": "python",
   "name": "python3"
  },
  "language_info": {
   "codemirror_mode": {
    "name": "ipython",
    "version": 3
   },
   "file_extension": ".py",
   "mimetype": "text/x-python",
   "name": "python",
   "nbconvert_exporter": "python",
   "pygments_lexer": "ipython3",
   "version": "3.10.2"
  }
 },
 "nbformat": 4,
 "nbformat_minor": 5
}
